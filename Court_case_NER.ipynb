{
  "nbformat": 4,
  "nbformat_minor": 0,
  "metadata": {
    "colab": {
      "name": "Court case NER ",
      "provenance": []
    },
    "kernelspec": {
      "name": "python3",
      "display_name": "Python 3"
    },
    "language_info": {
      "name": "python"
    }
  },
  "cells": [
    {
      "cell_type": "code",
      "source": [
        "!pip install PyPDF2"
      ],
      "metadata": {
        "colab": {
          "base_uri": "https://localhost:8080/"
        },
        "id": "Nliqdh-neqfb",
        "outputId": "49ead9aa-c3da-4c36-aef0-5c164e27f125"
      },
      "execution_count": 8,
      "outputs": [
        {
          "output_type": "stream",
          "name": "stdout",
          "text": [
            "Looking in indexes: https://pypi.org/simple, https://us-python.pkg.dev/colab-wheels/public/simple/\n",
            "Collecting PyPDF2\n",
            "  Downloading PyPDF2-2.10.2-py3-none-any.whl (214 kB)\n",
            "\u001b[K     |████████████████████████████████| 214 kB 7.5 MB/s \n",
            "\u001b[?25hRequirement already satisfied: typing-extensions in /usr/local/lib/python3.7/dist-packages (from PyPDF2) (4.1.1)\n",
            "Installing collected packages: PyPDF2\n",
            "Successfully installed PyPDF2-2.10.2\n"
          ]
        }
      ]
    },
    {
      "cell_type": "code",
      "execution_count": 1,
      "metadata": {
        "id": "i_218SwfYBn7"
      },
      "outputs": [],
      "source": [
        "import spacy"
      ]
    },
    {
      "cell_type": "code",
      "source": [
        "nlp = spacy.load(\"en_core_web_sm\")"
      ],
      "metadata": {
        "id": "fVy0uMOLYEjE"
      },
      "execution_count": 2,
      "outputs": []
    },
    {
      "cell_type": "code",
      "source": [
        "text = \"Rakesh Jhunjhunwala, the self-made billionaire investor who was known for his unwavering bullish stance in the midst of market ups and downs as well as the verve and witticisms that characterised his public utterances died on 14 August. Often referred to as 'India's Warren Buffett' and the Big Bull of Indian markets, Jhunjhunwala's net worth was $5.8 billion, according to Forbes.\""
      ],
      "metadata": {
        "id": "qcKqTmmSYTO0"
      },
      "execution_count": 3,
      "outputs": []
    },
    {
      "cell_type": "code",
      "source": [
        "doc = nlp(text)"
      ],
      "metadata": {
        "id": "zcT1FTlkZFrM"
      },
      "execution_count": 4,
      "outputs": []
    },
    {
      "cell_type": "code",
      "source": [
        "for entity in doc.ents:\n",
        "  print(entity.text,entity.label_)"
      ],
      "metadata": {
        "id": "DsAqMWW3ZN3s"
      },
      "execution_count": null,
      "outputs": []
    },
    {
      "cell_type": "code",
      "source": [
        "from PyPDF2 import PdfReader"
      ],
      "metadata": {
        "id": "vKJlux9hZUrE"
      },
      "execution_count": 11,
      "outputs": []
    },
    {
      "cell_type": "code",
      "source": [
        "reader = PdfReader(\"/content/Data/13338_2019_2_1502_36156_Judgement_16-Jun-2022.pdf\")"
      ],
      "metadata": {
        "id": "0KJSNhSzemot"
      },
      "execution_count": 12,
      "outputs": []
    },
    {
      "cell_type": "code",
      "source": [
        "number_of_pages = len(reader.pages)\n",
        "page = reader.pages[0]\n",
        "text = page.extract_text()"
      ],
      "metadata": {
        "id": "RQwqS06vnfLJ"
      },
      "execution_count": 13,
      "outputs": []
    },
    {
      "cell_type": "code",
      "source": [
        "number_of_pages"
      ],
      "metadata": {
        "colab": {
          "base_uri": "https://localhost:8080/"
        },
        "id": "QV5JurlMnm2o",
        "outputId": "eeb9e5f4-7420-445e-c881-13919de4bd25"
      },
      "execution_count": 15,
      "outputs": [
        {
          "output_type": "execute_result",
          "data": {
            "text/plain": [
              "21"
            ]
          },
          "metadata": {},
          "execution_count": 15
        }
      ]
    },
    {
      "cell_type": "code",
      "source": [
        "final_text = \"\""
      ],
      "metadata": {
        "id": "VzYjQi7JoH_V"
      },
      "execution_count": 22,
      "outputs": []
    },
    {
      "cell_type": "code",
      "source": [
        "for page in reader.pages:\n",
        "  text = page.extract_text()\n",
        "  final_text+= text\n",
        "final_text\n"
      ],
      "metadata": {
        "id": "m3bANh-fnnyz"
      },
      "execution_count": null,
      "outputs": []
    },
    {
      "cell_type": "code",
      "source": [
        "doc = nlp(final_text)"
      ],
      "metadata": {
        "id": "wup9M_KToi5M"
      },
      "execution_count": 24,
      "outputs": []
    },
    {
      "cell_type": "code",
      "source": [
        "for entity in doc.ents:\n",
        "  print(entity.label_)"
      ],
      "metadata": {
        "id": "Bfjk6U85o2t5"
      },
      "execution_count": null,
      "outputs": []
    },
    {
      "cell_type": "markdown",
      "source": [
        "all the files\n"
      ],
      "metadata": {
        "id": "TwFdxsU3qFhT"
      }
    },
    {
      "cell_type": "code",
      "source": [
        "import os\n",
        "\n",
        "folder_path = \"/content/Data\"\n",
        "files = os.listdir(folder_path)\n",
        "\n",
        "files"
      ],
      "metadata": {
        "id": "qPL2g51JpAIp"
      },
      "execution_count": null,
      "outputs": []
    },
    {
      "cell_type": "code",
      "source": [
        "def ReadFile(filename)-> str:\n",
        "  print(\"Reading file\", filename)\n",
        "  reader = PdfReader(filename)\n",
        "  number_of_pages = len(reader.pages)\n",
        "  \n",
        "  # contains all the text from the file\n",
        "  final_text = \"\"\n",
        "\n",
        "  for page in reader.pages:\n",
        "    text = page.extract_text()\n",
        "    \n",
        "    final_text += text\n",
        "\n",
        "  return final_text "
      ],
      "metadata": {
        "id": "aQsSjIS5qecw"
      },
      "execution_count": 39,
      "outputs": []
    },
    {
      "cell_type": "code",
      "source": [
        "def SaveFile(folder,filename,data)->None:\n",
        "  \n",
        "  \n",
        "  filename = filename+\".txt\"\n",
        "  f = open(folder+filename,\"w\")\n",
        "  f.write(data)\n",
        "\n",
        "  "
      ],
      "metadata": {
        "id": "djH3GQE8sYbo"
      },
      "execution_count": 40,
      "outputs": []
    },
    {
      "cell_type": "markdown",
      "source": [
        "all the files to text \n"
      ],
      "metadata": {
        "id": "Pfv8JLeUqP3X"
      }
    },
    {
      "cell_type": "code",
      "source": [
        "text_data = \"/content/Text Data/\"\n",
        "folder_path = \"/content/Data/\"\n",
        "\n",
        "for i in files:\n",
        "  file_path = folder_path+str(i)\n",
        "\n",
        "  # text data from the PDF reader\n",
        "  file_data = ReadFile(file_path)\n",
        "\n",
        "  # Saving the data\n",
        "  SaveFile(text_data,i,file_data)\n"
      ],
      "metadata": {
        "id": "ESh6qxc3p0UK"
      },
      "execution_count": null,
      "outputs": []
    },
    {
      "cell_type": "markdown",
      "source": [
        "Zipping the file"
      ],
      "metadata": {
        "id": "_plNLoGfvMp4"
      }
    },
    {
      "cell_type": "code",
      "source": [
        "import shutil\n",
        "shutil.make_archive(\"Text Data\", 'zip', \"/content/Text Data\")"
      ],
      "metadata": {
        "colab": {
          "base_uri": "https://localhost:8080/",
          "height": 36
        },
        "id": "8_ihaUGWvJyb",
        "outputId": "50e0f1cc-0176-472e-9135-2efcc0f691bc"
      },
      "execution_count": 45,
      "outputs": [
        {
          "output_type": "execute_result",
          "data": {
            "text/plain": [
              "'/content/Text Data.zip'"
            ],
            "application/vnd.google.colaboratory.intrinsic+json": {
              "type": "string"
            }
          },
          "metadata": {},
          "execution_count": 45
        }
      ]
    },
    {
      "cell_type": "code",
      "source": [
        "from google.colab import files\n",
        "files.download(\"/content/Text Data\")"
      ],
      "metadata": {
        "id": "o-C42inKueBJ"
      },
      "execution_count": null,
      "outputs": []
    },
    {
      "cell_type": "markdown",
      "source": [
        "Applying NER to all the files"
      ],
      "metadata": {
        "id": "he8YOs5Jv65D"
      }
    },
    {
      "cell_type": "code",
      "source": [
        "import os\n",
        "\n",
        "folder_path = \"/content/Text Data\"\n",
        "files = os.listdir(folder_path)\n",
        "\n",
        "files"
      ],
      "metadata": {
        "id": "HCTNQHjNu1QB"
      },
      "execution_count": null,
      "outputs": []
    },
    {
      "cell_type": "code",
      "source": [
        "def NamedEntity(text)-> tuple:\n",
        "  doc = nlp(text)\n",
        "  print(type(doc.ents))\n",
        "\n",
        "  return doc.ents"
      ],
      "metadata": {
        "id": "Xe48JQcqw9hH"
      },
      "execution_count": 53,
      "outputs": []
    },
    {
      "cell_type": "code",
      "source": [
        "entity = NamedEntity(final_text)\n",
        "\n",
        "for e in entity:\n",
        "  print(e.text, e.label_)"
      ],
      "metadata": {
        "colab": {
          "base_uri": "https://localhost:8080/"
        },
        "id": "meb5k7n6xbI3",
        "outputId": "d4ebf1b7-e9c4-44f8-d52a-666ea7010272"
      },
      "execution_count": 57,
      "outputs": [
        {
          "output_type": "stream",
          "name": "stdout",
          "text": [
            "<class 'tuple'>\n",
            "THE SUPREME COURT OF INDIA\n",
            " CIVIL APPELLATE JURISDICTION\n",
            " ORG\n",
            "2022 DATE\n",
            "SLP ORG\n",
            "9780 CARDINAL\n",
            "2019 DATE\n",
            "BHARAT BHUSHAN GUPTA                PERSON\n",
            "APPELLANT(S ORG\n",
            "J. CARDINAL\n",
            "respondents1 wherein PERSON\n",
            "Order VII Rule 11 LAW\n",
            "19082 DATE\n",
            "Trial  Court ORG\n",
            "the Trial Court ORG\n",
            "the High\n",
            "Court ORG\n",
            "1 CARDINAL\n",
            "2 CARDINAL\n",
            "1cross CARDINAL\n",
            "Court ORG\n",
            "2.1.It CARDINAL\n",
            "26.04.2019 DATE\n",
            "Court ORG\n",
            "Court ORG\n",
            "1 CARDINAL\n",
            "First ORDINAL\n",
            "Appellate  Court ORG\n",
            "the High Court ORG\n",
            "3.1.The CARDINAL\n",
            "427419 CARDINAL\n",
            "2016 DATE\n",
            "the Court of Senior Civil Judge ORG\n",
            "South West District LOC\n",
            "New Delhi GPE\n",
            "2of ORDINAL\n",
            "1 CARDINAL\n",
            "one CARDINAL\n",
            "2 CARDINAL\n",
            "two CARDINAL\n",
            "RZ-28 CARDINAL\n",
            "Indira  Park\n",
            "Extension PERSON\n",
            "Mandir GPE\n",
            "Uttam  Nagar PERSON\n",
            "New  Delhi GPE\n",
            "110059 CARDINAL\n",
            "252 CARDINAL\n",
            "third ORDINAL\n",
            "3.2.The CARDINAL\n",
            "Plot No ORG\n",
            "RZ-28 CARDINAL\n",
            "Indira Park Extension ORG\n",
            "Hanuman Mandir PERSON\n",
            "Uttam Nagar PERSON\n",
            "New Delhi GPE\n",
            "252 CARDINAL\n",
            "the year\n",
            "1981 DATE\n",
            "three CARDINAL\n",
            "the  year  1983-84 DATE\n",
            "1 CARDINAL\n",
            "2 CARDINAL\n",
            "1 CARDINAL\n",
            "the year 1989-90 DATE\n",
            "1 CARDINAL\n",
            "2 CARDINAL\n",
            "1 CARDINAL\n",
            "Munshi ORG\n",
            "1 CARDINAL\n",
            "two CARDINAL\n",
            "2 CARDINAL\n",
            "two CARDINAL\n",
            "2 CARDINAL\n",
            "1 CARDINAL\n",
            "the\n",
            "year 2005 DATE\n",
            "3.4.In CARDINAL\n",
            "25.09.2016 DATE\n",
            "third ORDINAL\n",
            "Court ORG\n",
            "10 to 12 CARDINAL\n",
            "Plaintiff ORG\n",
            "27.08.2016 CARDINAL\n",
            "the 15 days DATE\n",
            "25.09.2016 DATE\n",
            "Court ORG\n",
            "250 CARDINAL\n",
            "Rs PERSON\n",
            "1 lac CARDINAL\n",
            "3443.80 CARDINAL\n",
            "3.5.The CARDINAL\n",
            "1 CARDINAL\n",
            "one CARDINAL\n",
            "RZ-28 CARDINAL\n",
            "Indira Park Extension ORG\n",
            "Hanuman Mandir PERSON\n",
            "Uttam Nagar PERSON\n",
            "New Delhi GPE\n",
            "110059 DATE\n",
            "252 CARDINAL\n",
            "2 CARDINAL\n",
            "two CARDINAL\n",
            "Plot No ORG\n",
            "RZ-28 CARDINAL\n",
            "Indira\n",
            "Park Extension ORG\n",
            "Hanuman Mandir PERSON\n",
            "Uttam Nagar PERSON\n",
            "New\n",
            "Delhi-110059 NORP\n",
            "252 CARDINAL\n",
            "1\n",
            "& 2 MONEY\n",
            "third ORDINAL\n",
            "28.08.2016 GPE\n",
            "27.09.2016 DATE\n",
            "2 CARDINAL\n",
            "1  herein QUANTITY\n",
            "inter alia FAC\n",
            "5plaintiff CARDINAL\n",
            "1 CARDINAL\n",
            "2 CARDINAL\n",
            "2 CARDINAL\n",
            "2 CARDINAL\n",
            "5 CARDINAL\n",
            "3.8.The CARDINAL\n",
            "28.11.2017 DATE\n",
            "1 CARDINAL\n",
            "2 CARDINAL\n",
            "1 CARDINAL\n",
            "2 CARDINAL\n",
            "Order XIV Rule\n",
            "5 CPC PERSON\n",
            "the Trial Court ORG\n",
            "31.08.2021 DATE\n",
            "20.03.2018 DATE\n",
            "3 CARDINAL\n",
            "31.08.2021 DATE\n",
            "6question CARDINAL\n",
            "1.8 CARDINAL\n",
            "1.8 CARDINAL\n",
            "2 CARDINAL\n",
            "Order VII Rule 11 LAW\n",
            "CPC ORG\n",
            "1.8 CARDINAL\n",
            "the Trial Court ORG\n",
            "the Trial Court ORG\n",
            "The Trial Court ORG\n",
            "Order 7\n",
            "Rule  11  CPC LAW\n",
            "no.2 CARDINAL\n",
            "Order 7 Rule LAW\n",
            "11 CARDINAL\n",
            "CPC ORG\n",
            "DLSA PERSON\n",
            "2 CARDINAL\n",
            "the High Court ORG\n",
            "18.03.2019 DATE\n",
            "74.1.The CARDINAL\n",
            "Mulk Raj Khullar PERSON\n",
            "Anil Kapur & Ors PERSON\n",
            "CS (OS) No ORG\n",
            "1855\n",
            "of 2011 DATE\n",
            "2013 DATE\n",
            "139 CARDINAL\n",
            "Court ORG\n",
            "Lal Jain PERSON\n",
            "Avtar Singh PERSON\n",
            "AIR ORG\n",
            "Lal Jain PERSON\n",
            "The High Court ORG\n",
            "Mulk Raj\n",
            "Khullar ORG\n",
            "Court ORG\n",
            "the High Court ORG\n",
            "Mulk Raj Khullar PERSON\n",
            "1.8 CARDINAL\n",
            "Court ORG\n",
            "250 CARDINAL\n",
            "4.3.With CARDINAL\n",
            "Court ORG\n",
            "the High Court ORG\n",
            "17 CARDINAL\n",
            "no.1 LAW\n",
            "this\n",
            "Court ORG\n",
            "Mulk Raj Khullar Vs WORK_OF_ART\n",
            "Anil Kapur & Ors PERSON\n",
            "no.1 LAW\n",
            "Court ORG\n",
            "Mulk Raj Khullar Vs WORK_OF_ART\n",
            "Anil Kapur & Ors PERSON\n",
            "30 CARDINAL\n",
            "30 CARDINAL\n",
            "Court\n",
            "Fee ORG\n",
            "18 CARDINAL\n",
            "Rs.1.8 PRODUCT\n",
            "Court Fees ORG\n",
            "1.8 CARDINAL\n",
            "Trial Court ORG\n",
            "Court ORG\n",
            "20.The CARDINAL\n",
            "Trial Court ORG\n",
            "30 days DATE\n",
            "Trial Court ORG\n",
            "21.The CARDINAL\n",
            "the High Court ORG\n",
            "the Trial Court ORG\n",
            "the\n",
            "First Appellate Court ORG\n",
            "5.1.Learned CARDINAL\n",
            "Maria Margarida PERSON\n",
            "Sequeira  Fernandes  &  Ors ORG\n",
            "Jack  de  Sequeira PERSON\n",
            "2012 CARDINAL\n",
            "5 CARDINAL\n",
            "370 CARDINAL\n",
            "Lal Jain PERSON\n",
            "the High Court ORG\n",
            "105.2.As CARDINAL\n",
            "Court ORG\n",
            "18704 DATE\n",
            "the Court\n",
            "Fees Act ORG\n",
            "Section 7 LAW\n",
            "Lal\n",
            "Jain PERSON\n",
            "Delhi GPE\n",
            "Raj Khullar PERSON\n",
            "Malik Mohd Tanveer PERSON\n",
            "Uzma Malik & Anr ORG\n",
            "663 CARDINAL\n",
            "205 CARDINAL\n",
            "18.07.2016 DATE\n",
            "contra NORP\n",
            "1 CARDINAL\n",
            "last 30 years DATE\n",
            "Court ORG\n",
            "4 CARDINAL\n",
            "Court ORG\n",
            "116.1.As CARDINAL\n",
            "Article   LAW\n",
            "136 CARDINAL\n",
            "the\n",
            "Constitution of India LAW\n",
            "1.8 CARDINAL\n",
            "New Delhi GPE\n",
            "3 CARDINAL\n",
            "Court ORG\n",
            "6.2 CARDINAL\n",
            "Court ORG\n",
            "Court ORG\n",
            "Travel  Company ORG\n",
            "Vimla\n",
            "Pannalal ORG\n",
            "1988 DATE\n",
            "3 CARDINAL\n",
            "423 CARDINAL\n",
            "the Court Fees Act ORG\n",
            "the Full Bench WORK_OF_ART\n",
            "Har Narain & Anr ORG\n",
            "1978 DATE\n",
            "114 CARDINAL\n",
            "1 CARDINAL\n",
            "1 CARDINAL\n",
            "more than 12 years DATE\n",
            "12Thus CARDINAL\n",
            "the Trial Court ORG\n",
            "1 CARDINAL\n",
            "the Trial Court ORG\n",
            "18.03.2019 DATE\n",
            "the High Court ORG\n",
            "Court ORG\n",
            "7.Computation CARDINAL\n",
            "third ORDINAL\n",
            "Court ORG\n",
            "250 CARDINAL\n",
            "Court ORG\n",
            "9.2.So CARDINAL\n",
            "Maria Margarida PERSON\n",
            "Sequeira Fernandes PERSON\n",
            "65 CARDINAL\n",
            "Section 6 of the Specific Relief Act LAW\n",
            "Lal Jain PERSON\n",
            "Court ORG\n",
            "Jammu & Kashmir ORG\n",
            "Milka ORG\n",
            "Singh GPE\n",
            "Diana  AIR   ORG\n",
            "1964 DATE\n",
            "J  &  K  99 ORG\n",
            "one CARDINAL\n",
            "Murtaza GPE\n",
            "Fazal Ali PERSON\n",
            "J. PERSON\n",
            "the Division Bench ORG\n",
            "English NORP\n",
            "the Court-Fees Act ORG\n",
            "7 CARDINAL\n",
            "Court ORG\n",
            "5 CARDINAL\n",
            "Milka ORG\n",
            "Singh PERSON\n",
            "Diana PERSON\n",
            "AIR 1964 J & K 99 ORG\n",
            "15 CARDINAL\n",
            "one CARDINAL\n",
            "9.4.In CARDINAL\n",
            "Mulk Raj Khullar PERSON\n",
            "Lal Jain PERSON\n",
            "Joseph Severance & Ors ORG\n",
            "Benny Mathew & Ors ORG\n",
            "2005 DATE\n",
            "7 CARDINAL\n",
            "667 CARDINAL\n",
            "16 CARDINAL\n",
            "the High Court ORG\n",
            "Mulk Raj Khullar PERSON\n",
            "the High Court ORG\n",
            "Mulk Raj Khullar’s FAC\n",
            "Court ORG\n",
            "30 CARDINAL\n",
            "Mulk Raj Khullar’s PERSON\n",
            "Delhi GPE\n",
            "Padmavati GPE\n",
            "Mahajan GPE\n",
            "Yogender Mahajan & Anr ORG\n",
            "2008 DATE\n",
            "152 CARDINAL\n",
            "DLT ORG\n",
            "Court ORG\n",
            "the High Court ORG\n",
            "Court ORG\n",
            "the High Court ORG\n",
            "Mulk GPE\n",
            "Raj Khullar PERSON\n",
            "250 CARDINAL\n",
            "Court ORG\n",
            "11.The CARDINAL\n",
            "Commercial Aviation ORG\n",
            "1 CARDINAL\n",
            "one CARDINAL\n",
            "7 CARDINAL\n",
            "Court ORG\n",
            "Court ORG\n",
            "Section 7(iv LAW\n",
            "Court ORG\n",
            "7. CARDINAL\n",
            "Section 7 LAW\n",
            "Court ORG\n",
            "Section 7 LAW\n",
            "Court ORG\n",
            "9 CARDINAL\n",
            "the State Government ORG\n",
            "Section 7 LAW\n",
            "Court ORG\n",
            "the Punjab High Court ORG\n",
            "Section 9 LAW\n",
            "the  Union\n",
            "Territory ORG\n",
            "Delhi GPE\n",
            "Section 7 LAW\n",
            "the Court Fees Act ORG\n",
            "18which CARDINAL\n",
            "Section 7 LAW\n",
            "the Court Fees Act ORG\n",
            "11.1.The CARDINAL\n",
            "13 CARDINAL\n",
            "13 CARDINAL\n",
            "Section 7 LAW\n",
            "Order VII LAW\n",
            "Urmilabala\n",
            "Biswas ORG\n",
            "Binapani Biswas PERSON\n",
            "161 CARDINAL\n",
            "42 CARDINAL\n",
            "192 CARDINAL\n",
            "177 CARDINAL\n",
            "1C CARDINAL\n",
            "Section 7 LAW\n",
            "Court ORG\n",
            "11.2.These CARDINAL\n",
            "12.The CARDINAL\n",
            "the Full Bench PRODUCT\n",
            "Mahant ORG\n",
            "Court ORG\n",
            "the Section 7 of LAW\n",
            "13 CARDINAL\n",
            "1 CARDINAL\n",
            "the Trial Court ORG\n",
            "1 CARDINAL\n",
            "Order VII Rule 11 LAW\n",
            "CPC ORG\n",
            "the Trial Court ORG\n",
            "the High Court ORG\n",
            "20the CARDINAL\n",
            "Court ORG\n",
            "15.Accordingly CARDINAL\n",
            "18.03.2019 DATE\n",
            "Trial Court ORG\n",
            "First ORDINAL\n",
            "Appellate Court ORG\n",
            "VIKRAM NATH ORG\n",
            "NEW DELHI GPE\n",
            "JUNE 16, 2022 DATE\n",
            "21 CARDINAL\n"
          ]
        }
      ]
    },
    {
      "cell_type": "code",
      "source": [
        ""
      ],
      "metadata": {
        "id": "0XTGnQsixlEE"
      },
      "execution_count": null,
      "outputs": []
    }
  ]
}